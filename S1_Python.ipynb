{
  "nbformat": 4,
  "nbformat_minor": 0,
  "metadata": {
    "colab": {
      "provenance": [],
      "collapsed_sections": [
        "e169VtCkzw43",
        "ypOAmJMsn-KM",
        "0p6Jncqgq9cW",
        "SgsOYkstsK2K",
        "ijzaboJBtEDf",
        "c6Ft7y42zqe7",
        "TXqaO6n1z4n_",
        "D1jhjSzG0Klh",
        "wnsKtXY_0a-z",
        "FZ76HSBW0n__"
      ]
    },
    "kernelspec": {
      "name": "python3",
      "display_name": "Python 3"
    },
    "language_info": {
      "name": "python"
    }
  },
  "cells": [
    {
      "cell_type": "markdown",
      "source": [
        "# Data Containers"
      ],
      "metadata": {
        "id": "e169VtCkzw43"
      }
    },
    {
      "cell_type": "markdown",
      "source": [
        "## **Lists**"
      ],
      "metadata": {
        "id": "ypOAmJMsn-KM"
      }
    },
    {
      "cell_type": "code",
      "execution_count": 1,
      "metadata": {
        "id": "Hhq3sHyjn86M"
      },
      "outputs": [],
      "source": [
        "fruits = [\"apple\", \"banana\", \"cherry\"]"
      ]
    },
    {
      "cell_type": "markdown",
      "source": [
        "**Operations**"
      ],
      "metadata": {
        "id": "OsDLo4jFoC2s"
      }
    },
    {
      "cell_type": "markdown",
      "source": [
        "Indexing"
      ],
      "metadata": {
        "id": "cBcY4LkXoFg7"
      }
    },
    {
      "cell_type": "code",
      "source": [
        "print(fruits[0])  # Output: apple"
      ],
      "metadata": {
        "colab": {
          "base_uri": "https://localhost:8080/"
        },
        "id": "MrqIhxLQn93V",
        "outputId": "f675dc7a-cc9f-4aa5-8a77-97ca9fcc48cb"
      },
      "execution_count": 2,
      "outputs": [
        {
          "output_type": "stream",
          "name": "stdout",
          "text": [
            "apple\n"
          ]
        }
      ]
    },
    {
      "cell_type": "markdown",
      "source": [
        "Slicing"
      ],
      "metadata": {
        "id": "7OsGGsimoIQ2"
      }
    },
    {
      "cell_type": "code",
      "source": [
        "print(fruits[0:2])  # Output: ['apple', 'banana']"
      ],
      "metadata": {
        "colab": {
          "base_uri": "https://localhost:8080/"
        },
        "id": "ml9TsFz3oGwM",
        "outputId": "a728e027-c7ba-4d44-b3d2-74cbb3debd9d"
      },
      "execution_count": 3,
      "outputs": [
        {
          "output_type": "stream",
          "name": "stdout",
          "text": [
            "['apple', 'banana']\n"
          ]
        }
      ]
    },
    {
      "cell_type": "markdown",
      "source": [
        "Adding Elements"
      ],
      "metadata": {
        "id": "tvsApzS0oME8"
      }
    },
    {
      "cell_type": "code",
      "source": [
        "fruits.append(\"orange\")\n",
        "fruits.insert(1, \"mango\")"
      ],
      "metadata": {
        "id": "yTJi995poJtE"
      },
      "execution_count": 6,
      "outputs": []
    },
    {
      "cell_type": "markdown",
      "source": [
        "Removing Elements"
      ],
      "metadata": {
        "id": "rv09Ti7eoO0b"
      }
    },
    {
      "cell_type": "code",
      "source": [
        "fruits.remove(\"banana\")\n",
        "fruits.pop(2)"
      ],
      "metadata": {
        "colab": {
          "base_uri": "https://localhost:8080/",
          "height": 35
        },
        "id": "Xi6NBSAWoNSW",
        "outputId": "abbba6bc-6838-45fd-b957-b33755227163"
      },
      "execution_count": 5,
      "outputs": [
        {
          "output_type": "execute_result",
          "data": {
            "text/plain": [
              "'cherry'"
            ],
            "application/vnd.google.colaboratory.intrinsic+json": {
              "type": "string"
            }
          },
          "metadata": {},
          "execution_count": 5
        }
      ]
    },
    {
      "cell_type": "markdown",
      "source": [
        "## Tuples"
      ],
      "metadata": {
        "id": "0p6Jncqgq9cW"
      }
    },
    {
      "cell_type": "code",
      "source": [
        "coordinates = (10, 20)"
      ],
      "metadata": {
        "id": "RtShV6ZVq84T"
      },
      "execution_count": 7,
      "outputs": []
    },
    {
      "cell_type": "markdown",
      "source": [
        "Indexing and Slicing: Similar to lists."
      ],
      "metadata": {
        "id": "t7MI9LAgrNfy"
      }
    },
    {
      "cell_type": "code",
      "source": [
        "print(coordinates[0])  # Output: 10"
      ],
      "metadata": {
        "colab": {
          "base_uri": "https://localhost:8080/"
        },
        "id": "MKKYgX5yrLuM",
        "outputId": "3e2a9778-c205-4d0f-fdac-1a9e7a0a5df1"
      },
      "execution_count": 8,
      "outputs": [
        {
          "output_type": "stream",
          "name": "stdout",
          "text": [
            "10\n"
          ]
        }
      ]
    },
    {
      "cell_type": "markdown",
      "source": [
        "## Sets"
      ],
      "metadata": {
        "id": "SgsOYkstsK2K"
      }
    },
    {
      "cell_type": "code",
      "source": [
        "unique_numbers = {1, 2, 3, 4}"
      ],
      "metadata": {
        "id": "HaXnUErdsKjc"
      },
      "execution_count": 9,
      "outputs": []
    },
    {
      "cell_type": "markdown",
      "source": [
        "Adding Elements: Use add()"
      ],
      "metadata": {
        "id": "jF-FHJmNsOzQ"
      }
    },
    {
      "cell_type": "code",
      "source": [
        "unique_numbers.add(5)"
      ],
      "metadata": {
        "id": "rWTAhay1sPKH"
      },
      "execution_count": 10,
      "outputs": []
    },
    {
      "cell_type": "code",
      "source": [],
      "metadata": {
        "id": "nBCUJSZVsQvI"
      },
      "execution_count": null,
      "outputs": []
    },
    {
      "cell_type": "markdown",
      "source": [
        "Removing Elements: Use remove() or discard().\n"
      ],
      "metadata": {
        "id": "yAWtaf06sSsl"
      }
    },
    {
      "cell_type": "code",
      "source": [
        "unique_numbers.remove(2)"
      ],
      "metadata": {
        "id": "A5ssuKGLsSng"
      },
      "execution_count": 11,
      "outputs": []
    },
    {
      "cell_type": "markdown",
      "source": [
        "Set Operations: Union, intersection, difference.\n"
      ],
      "metadata": {
        "id": "Lv-1LEDisXF9"
      }
    },
    {
      "cell_type": "code",
      "source": [
        "set_a = {1, 2, 3}\n",
        "set_b = {3, 4, 5}\n",
        "print(set_a | set_b)  # Union: {1, 2, 3, 4, 5}\n",
        "print(set_a & set_b)  # Intersection: {3}\n",
        "print(set_a - set_b)  # Difference: {1, 2}"
      ],
      "metadata": {
        "colab": {
          "base_uri": "https://localhost:8080/"
        },
        "id": "GMHws2W9sUCw",
        "outputId": "1db312c7-bea6-4253-8a24-e7452f5dcf4d"
      },
      "execution_count": 12,
      "outputs": [
        {
          "output_type": "stream",
          "name": "stdout",
          "text": [
            "{1, 2, 3, 4, 5}\n",
            "{3}\n",
            "{1, 2}\n"
          ]
        }
      ]
    },
    {
      "cell_type": "markdown",
      "source": [
        "## Dictionaries"
      ],
      "metadata": {
        "id": "ijzaboJBtEDf"
      }
    },
    {
      "cell_type": "code",
      "source": [
        "student = {\"name\": \"Alice\", \"age\": 20, \"courses\": [\"Math\", \"Science\"]}"
      ],
      "metadata": {
        "id": "CzDrj1F5sYsW"
      },
      "execution_count": 13,
      "outputs": []
    },
    {
      "cell_type": "markdown",
      "source": [
        "Accessing Values: Use keys."
      ],
      "metadata": {
        "id": "2168nUfOtJYJ"
      }
    },
    {
      "cell_type": "code",
      "source": [
        "print(student[\"name\"])  # Output: Alice"
      ],
      "metadata": {
        "colab": {
          "base_uri": "https://localhost:8080/"
        },
        "id": "yAcJ4aTEtGxI",
        "outputId": "ccbcc680-c4e6-4a45-e7f5-e861c99cc7f8"
      },
      "execution_count": 14,
      "outputs": [
        {
          "output_type": "stream",
          "name": "stdout",
          "text": [
            "Alice\n"
          ]
        }
      ]
    },
    {
      "cell_type": "markdown",
      "source": [
        "Adding/Updating: Assign a value to a key."
      ],
      "metadata": {
        "id": "QyStJtWstMEY"
      }
    },
    {
      "cell_type": "code",
      "source": [
        "student[\"age\"] = 21\n",
        "student[\"grade\"] = \"A\""
      ],
      "metadata": {
        "id": "x-kLE-6btKeH"
      },
      "execution_count": 15,
      "outputs": []
    },
    {
      "cell_type": "markdown",
      "source": [
        "Removing Items: Use pop() to remove a key-value pair.\n"
      ],
      "metadata": {
        "id": "ow6u_5r7tO_r"
      }
    },
    {
      "cell_type": "code",
      "source": [
        "student.pop(\"age\")"
      ],
      "metadata": {
        "colab": {
          "base_uri": "https://localhost:8080/"
        },
        "id": "biyc6L7ttNrO",
        "outputId": "805c509f-82ff-470f-f290-ca1b0fa273d0"
      },
      "execution_count": 16,
      "outputs": [
        {
          "output_type": "execute_result",
          "data": {
            "text/plain": [
              "21"
            ]
          },
          "metadata": {},
          "execution_count": 16
        }
      ]
    },
    {
      "cell_type": "markdown",
      "source": [
        "# Control flow"
      ],
      "metadata": {
        "id": "c6Ft7y42zqe7"
      }
    },
    {
      "cell_type": "markdown",
      "source": [
        "## If Statements"
      ],
      "metadata": {
        "id": "TXqaO6n1z4n_"
      }
    },
    {
      "cell_type": "code",
      "source": [
        "number = 5\n",
        "if number > 0:\n",
        "    print(\"The number is positive.\")"
      ],
      "metadata": {
        "colab": {
          "base_uri": "https://localhost:8080/"
        },
        "id": "R8XQjYDxzp_1",
        "outputId": "8478e750-9cfe-4dae-97ac-e37e77a1b19c"
      },
      "execution_count": 1,
      "outputs": [
        {
          "output_type": "stream",
          "name": "stdout",
          "text": [
            "The number is positive.\n"
          ]
        }
      ]
    },
    {
      "cell_type": "markdown",
      "source": [
        "Check String Length:"
      ],
      "metadata": {
        "id": "leHy4blBz8bK"
      }
    },
    {
      "cell_type": "code",
      "source": [
        "name = \"Alice\"\n",
        "if len(name) > 3:\n",
        "    print(\"The name is longer than 3 characters.\")"
      ],
      "metadata": {
        "colab": {
          "base_uri": "https://localhost:8080/"
        },
        "id": "qJSCQXOjz8r2",
        "outputId": "7dbb9146-6783-4511-c901-5087ede6abff"
      },
      "execution_count": 2,
      "outputs": [
        {
          "output_type": "stream",
          "name": "stdout",
          "text": [
            "The name is longer than 3 characters.\n"
          ]
        }
      ]
    },
    {
      "cell_type": "markdown",
      "source": [
        "Check Membership in List"
      ],
      "metadata": {
        "id": "LmaZjDd70BmT"
      }
    },
    {
      "cell_type": "code",
      "source": [
        "fruits = [\"apple\", \"banana\", \"cherry\"]\n",
        "if \"banana\" in fruits:\n",
        "    print(\"Banana is in the list.\")"
      ],
      "metadata": {
        "colab": {
          "base_uri": "https://localhost:8080/"
        },
        "id": "k524imHA0Bwu",
        "outputId": "e8bb23d0-a2ba-4ea5-f696-530359e86201"
      },
      "execution_count": 3,
      "outputs": [
        {
          "output_type": "stream",
          "name": "stdout",
          "text": [
            "Banana is in the list.\n"
          ]
        }
      ]
    },
    {
      "cell_type": "markdown",
      "source": [
        "Check if Variable is Not None:"
      ],
      "metadata": {
        "id": "1i56Wlsa0FHR"
      }
    },
    {
      "cell_type": "code",
      "source": [
        "result = None\n",
        "if result is None:\n",
        "    print(\"Result is not set yet.\")"
      ],
      "metadata": {
        "colab": {
          "base_uri": "https://localhost:8080/"
        },
        "id": "c_9B6h_uz_cg",
        "outputId": "46cb7d80-df17-4526-8469-bcda4d6dc234"
      },
      "execution_count": 4,
      "outputs": [
        {
          "output_type": "stream",
          "name": "stdout",
          "text": [
            "Result is not set yet.\n"
          ]
        }
      ]
    },
    {
      "cell_type": "markdown",
      "source": [
        "## If-Else Statements"
      ],
      "metadata": {
        "id": "D1jhjSzG0Klh"
      }
    },
    {
      "cell_type": "markdown",
      "source": [
        "Check Even or Odd Number"
      ],
      "metadata": {
        "id": "c1aoGfzF0QYX"
      }
    },
    {
      "cell_type": "code",
      "source": [
        "number = 4\n",
        "if number % 2 == 0:\n",
        "    print(\"Even number\")\n",
        "else:\n",
        "    print(\"Odd number\")"
      ],
      "metadata": {
        "colab": {
          "base_uri": "https://localhost:8080/"
        },
        "id": "iMBR34EU0GII",
        "outputId": "3d552183-6fb8-4f30-ef51-12d8787b5a90"
      },
      "execution_count": 5,
      "outputs": [
        {
          "output_type": "stream",
          "name": "stdout",
          "text": [
            "Even number\n"
          ]
        }
      ]
    },
    {
      "cell_type": "markdown",
      "source": [
        "Age Verification"
      ],
      "metadata": {
        "id": "vKYqKVo30SxB"
      }
    },
    {
      "cell_type": "code",
      "source": [
        "age = 17\n",
        "if age >= 18:\n",
        "    print(\"You are eligible to vote.\")\n",
        "else:\n",
        "    print(\"You are not eligible to vote.\")"
      ],
      "metadata": {
        "colab": {
          "base_uri": "https://localhost:8080/"
        },
        "id": "vPmyr3MC0Ray",
        "outputId": "8607c89c-5515-4347-fa8a-a9fb0525f06a"
      },
      "execution_count": 6,
      "outputs": [
        {
          "output_type": "stream",
          "name": "stdout",
          "text": [
            "You are not eligible to vote.\n"
          ]
        }
      ]
    },
    {
      "cell_type": "markdown",
      "source": [
        "Check for Empty List:"
      ],
      "metadata": {
        "id": "Y1gYcvNk0Vg4"
      }
    },
    {
      "cell_type": "code",
      "source": [
        "items = []\n",
        "if items:\n",
        "    print(\"The list is not empty.\")\n",
        "else:\n",
        "    print(\"The list is empty.\")"
      ],
      "metadata": {
        "colab": {
          "base_uri": "https://localhost:8080/"
        },
        "id": "3HBfnZFL0T9S",
        "outputId": "d1f8da92-c7a0-4634-f253-edba45c2cf7a"
      },
      "execution_count": 7,
      "outputs": [
        {
          "output_type": "stream",
          "name": "stdout",
          "text": [
            "The list is empty.\n"
          ]
        }
      ]
    },
    {
      "cell_type": "markdown",
      "source": [
        "Temperature Check:"
      ],
      "metadata": {
        "id": "vbvpZ8CB0YKn"
      }
    },
    {
      "cell_type": "code",
      "source": [
        "temperature = 15\n",
        "if temperature > 20:\n",
        "    print(\"It's warm outside.\")\n",
        "else:\n",
        "    print(\"It's cold outside.\")"
      ],
      "metadata": {
        "colab": {
          "base_uri": "https://localhost:8080/"
        },
        "id": "5PX1A16o0WzY",
        "outputId": "21b579f3-d3eb-4941-ab6f-f18d7739fce6"
      },
      "execution_count": 8,
      "outputs": [
        {
          "output_type": "stream",
          "name": "stdout",
          "text": [
            "It's cold outside.\n"
          ]
        }
      ]
    },
    {
      "cell_type": "markdown",
      "source": [
        "## If-Elif-Else Statements"
      ],
      "metadata": {
        "id": "wnsKtXY_0a-z"
      }
    },
    {
      "cell_type": "markdown",
      "source": [
        "Grading System"
      ],
      "metadata": {
        "id": "RKfqpFES0c78"
      }
    },
    {
      "cell_type": "code",
      "source": [
        "score = 72\n",
        "if score >= 90:\n",
        "    print(\"Grade A\")\n",
        "elif score >= 80:\n",
        "    print(\"Grade B\")\n",
        "elif score >= 70:\n",
        "    print(\"Grade C\")\n",
        "else:\n",
        "    print(\"Grade D\")"
      ],
      "metadata": {
        "colab": {
          "base_uri": "https://localhost:8080/"
        },
        "id": "o_PMyFNv0ZMo",
        "outputId": "8aaf87d0-9c4c-4fca-d2e7-645b3df63d0b"
      },
      "execution_count": 9,
      "outputs": [
        {
          "output_type": "stream",
          "name": "stdout",
          "text": [
            "Grade C\n"
          ]
        }
      ]
    },
    {
      "cell_type": "markdown",
      "source": [
        "Traffic Light Signal"
      ],
      "metadata": {
        "id": "b3AEMEpa0f2H"
      }
    },
    {
      "cell_type": "code",
      "source": [
        "traffic_light = \"yellow\"\n",
        "if traffic_light == \"red\":\n",
        "    print(\"Stop\")\n",
        "elif traffic_light == \"yellow\":\n",
        "    print(\"Slow down\")\n",
        "elif traffic_light == \"green\":\n",
        "    print(\"Go\")\n",
        "else:\n",
        "    print(\"Invalid signal\")"
      ],
      "metadata": {
        "colab": {
          "base_uri": "https://localhost:8080/"
        },
        "id": "PfBJkqgP0fte",
        "outputId": "0612ad3f-ebfc-4c06-b6f3-47938cc741c1"
      },
      "execution_count": 10,
      "outputs": [
        {
          "output_type": "stream",
          "name": "stdout",
          "text": [
            "Slow down\n"
          ]
        }
      ]
    },
    {
      "cell_type": "markdown",
      "source": [
        "Classify Age Group"
      ],
      "metadata": {
        "id": "5o7eorDC0jIN"
      }
    },
    {
      "cell_type": "code",
      "source": [
        "age = 35\n",
        "if age < 13:\n",
        "    print(\"Child\")\n",
        "elif age < 18:\n",
        "    print(\"Teenager\")\n",
        "elif age < 65:\n",
        "    print(\"Adult\")\n",
        "else:\n",
        "    print(\"Senior\")"
      ],
      "metadata": {
        "colab": {
          "base_uri": "https://localhost:8080/"
        },
        "id": "hKRD-l850eTo",
        "outputId": "4bba5aea-a9bf-4687-fba6-3ab09baf8257"
      },
      "execution_count": 11,
      "outputs": [
        {
          "output_type": "stream",
          "name": "stdout",
          "text": [
            "Adult\n"
          ]
        }
      ]
    },
    {
      "cell_type": "markdown",
      "source": [
        "Check Temperature Range"
      ],
      "metadata": {
        "id": "g1ce4jJd0lXN"
      }
    },
    {
      "cell_type": "code",
      "source": [
        "temperature = 30\n",
        "if temperature < 0:\n",
        "    print(\"Freezing\")\n",
        "elif temperature <= 20:\n",
        "    print(\"Cold\")\n",
        "elif temperature <= 30:\n",
        "    print(\"Warm\")\n",
        "else:\n",
        "    print(\"Hot\")"
      ],
      "metadata": {
        "colab": {
          "base_uri": "https://localhost:8080/"
        },
        "id": "kOm_upTP0kB0",
        "outputId": "a3697376-9fbc-4acc-b61a-34aebda13da0"
      },
      "execution_count": 12,
      "outputs": [
        {
          "output_type": "stream",
          "name": "stdout",
          "text": [
            "Warm\n"
          ]
        }
      ]
    },
    {
      "cell_type": "markdown",
      "source": [
        "## Nested If Statements"
      ],
      "metadata": {
        "id": "FZ76HSBW0n__"
      }
    },
    {
      "cell_type": "markdown",
      "source": [
        "Permission Check with Age"
      ],
      "metadata": {
        "id": "9h8fiLwr0p0s"
      }
    },
    {
      "cell_type": "code",
      "source": [
        "age = 17\n",
        "has_permission = True\n",
        "if age < 18:\n",
        "    if has_permission:\n",
        "        print(\"You can enter with permission.\")\n",
        "    else:\n",
        "        print(\"You cannot enter.\")\n",
        "else:\n",
        "    print(\"You are allowed to enter.\")"
      ],
      "metadata": {
        "colab": {
          "base_uri": "https://localhost:8080/"
        },
        "id": "GxmUPGp40mdY",
        "outputId": "fa7b9c35-9c01-467c-f17e-dc6371c566ca"
      },
      "execution_count": 13,
      "outputs": [
        {
          "output_type": "stream",
          "name": "stdout",
          "text": [
            "You can enter with permission.\n"
          ]
        }
      ]
    },
    {
      "cell_type": "markdown",
      "source": [
        "Nested Condition for Shopping"
      ],
      "metadata": {
        "id": "riT_P3Vv0sUw"
      }
    },
    {
      "cell_type": "code",
      "source": [
        "has_discount = True\n",
        "is_member = False\n",
        "if has_discount:\n",
        "    if is_member:\n",
        "        print(\"You get a 20% discount.\")\n",
        "    else:\n",
        "        print(\"You get a 10% discount.\")\n",
        "else:\n",
        "    print(\"No discount available.\")"
      ],
      "metadata": {
        "colab": {
          "base_uri": "https://localhost:8080/"
        },
        "id": "Ir9MC29Y0q3o",
        "outputId": "26a26f78-b742-4598-fd1d-bdcc7acd3bd5"
      },
      "execution_count": 14,
      "outputs": [
        {
          "output_type": "stream",
          "name": "stdout",
          "text": [
            "You get a 10% discount.\n"
          ]
        }
      ]
    },
    {
      "cell_type": "markdown",
      "source": [
        "Nested Temperature and Time Check"
      ],
      "metadata": {
        "id": "ww-f3ZBT0uZK"
      }
    },
    {
      "cell_type": "code",
      "source": [
        "temperature = 22\n",
        "time_of_day = \"morning\"\n",
        "if temperature > 20:\n",
        "    if time_of_day == \"morning\":\n",
        "        print(\"It's warm and morning time.\")\n",
        "    else:\n",
        "        print(\"It's warm but not morning.\")\n",
        "else:\n",
        "    print(\"It's cold.\")"
      ],
      "metadata": {
        "colab": {
          "base_uri": "https://localhost:8080/"
        },
        "id": "y4v-UrIV0tM8",
        "outputId": "21909256-5a5f-4dc3-a5b7-ca0acc262180"
      },
      "execution_count": 15,
      "outputs": [
        {
          "output_type": "stream",
          "name": "stdout",
          "text": [
            "It's warm and morning time.\n"
          ]
        }
      ]
    },
    {
      "cell_type": "markdown",
      "source": [
        "Bank Account Balance Check"
      ],
      "metadata": {
        "id": "tYIt8Gbg0xC3"
      }
    },
    {
      "cell_type": "code",
      "source": [
        "balance = 500\n",
        "withdraw_amount = 300\n",
        "if balance >= withdraw_amount:\n",
        "    if withdraw_amount > 0:\n",
        "        print(\"Transaction successful.\")\n",
        "    else:\n",
        "        print(\"Invalid amount to withdraw.\")\n",
        "else:\n",
        "    print(\"Insufficient funds.\")"
      ],
      "metadata": {
        "colab": {
          "base_uri": "https://localhost:8080/"
        },
        "id": "mGPgBFQS0vjk",
        "outputId": "a508f435-212a-487c-b0f1-a61849fa3e57"
      },
      "execution_count": 16,
      "outputs": [
        {
          "output_type": "stream",
          "name": "stdout",
          "text": [
            "Transaction successful.\n"
          ]
        }
      ]
    }
  ]
}